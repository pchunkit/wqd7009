{
 "cells": [
  {
   "cell_type": "code",
   "execution_count": 2,
   "id": "6d3e605b",
   "metadata": {},
   "outputs": [
    {
     "name": "stdout",
     "output_type": "stream",
     "text": [
      "Evaluating RMSE, MAE of algorithm SVD on 5 split(s).\n",
      "\n",
      "                  Fold 1  Fold 2  Fold 3  Fold 4  Fold 5  Mean    Std     \n",
      "RMSE (testset)    0.8748  0.8715  0.8743  0.8706  0.8763  0.8735  0.0021  \n",
      "MAE (testset)     0.6867  0.6844  0.6863  0.6830  0.6884  0.6857  0.0019  \n",
      "Fit time          34.84   34.60   34.82   34.19   35.99   34.89   0.60    \n",
      "Test time         2.20    1.95    2.08    1.84    2.30    2.07    0.16    \n"
     ]
    },
    {
     "data": {
      "text/plain": [
       "{'test_rmse': array([0.87483494, 0.87149792, 0.87431562, 0.87057217, 0.87626306]),\n",
       " 'test_mae': array([0.68670388, 0.68438061, 0.68633146, 0.68297237, 0.68836079]),\n",
       " 'fit_time': (34.841881275177,\n",
       "  34.60479712486267,\n",
       "  34.82036566734314,\n",
       "  34.18919897079468,\n",
       "  35.994150161743164),\n",
       " 'test_time': (2.199998140335083,\n",
       "  1.9534392356872559,\n",
       "  2.081467628479004,\n",
       "  1.8429183959960938,\n",
       "  2.295020341873169)}"
      ]
     },
     "execution_count": 2,
     "metadata": {},
     "output_type": "execute_result"
    }
   ],
   "source": [
    "from surprise import SVD, Reader, Dataset, accuracy\n",
    "from surprise.model_selection import cross_validate\n",
    "from sklearn.model_selection import train_test_split\n",
    "\n",
    "data = Dataset.load_builtin('ml-1m')\n",
    "\n",
    "# Use the SVD algorithm.\n",
    "algo = SVD()\n",
    "\n",
    "# Run 5-fold cross-validation and print results.\n",
    "cross_validate(algo, data, measures=['RMSE', 'MAE'], cv=5, verbose=True)"
   ]
  },
  {
   "cell_type": "code",
   "execution_count": null,
   "id": "09ff8901",
   "metadata": {},
   "outputs": [],
   "source": []
  },
  {
   "cell_type": "code",
   "execution_count": null,
   "id": "a9e6e5ec",
   "metadata": {},
   "outputs": [],
   "source": []
  }
 ],
 "metadata": {
  "kernelspec": {
   "display_name": "Python 3",
   "language": "python",
   "name": "python3"
  },
  "language_info": {
   "codemirror_mode": {
    "name": "ipython",
    "version": 3
   },
   "file_extension": ".py",
   "mimetype": "text/x-python",
   "name": "python",
   "nbconvert_exporter": "python",
   "pygments_lexer": "ipython3",
   "version": "3.8.8"
  }
 },
 "nbformat": 4,
 "nbformat_minor": 5
}
